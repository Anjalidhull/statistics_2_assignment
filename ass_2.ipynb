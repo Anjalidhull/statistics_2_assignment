{
 "cells": [
  {
   "cell_type": "code",
   "execution_count": 1,
   "id": "bef39de4-bafb-4882-af39-9fa1d63c653a",
   "metadata": {},
   "outputs": [],
   "source": [
    "import numpy as np"
   ]
  },
  {
   "cell_type": "code",
   "execution_count": null,
   "id": "7473d0f7-6019-4f75-8865-ffef24f1a704",
   "metadata": {},
   "outputs": [],
   "source": [
    "Q1. What are the three measures of central tendency?"
   ]
  },
  {
   "cell_type": "code",
   "execution_count": null,
   "id": "8cbee183-803f-436b-8398-5304209705fb",
   "metadata": {},
   "outputs": [],
   "source": [
    "a)mean\n",
    "b)median\n",
    "c)mode"
   ]
  },
  {
   "cell_type": "code",
   "execution_count": null,
   "id": "689d8499-df12-4eff-8c80-cb15f0de9522",
   "metadata": {},
   "outputs": [],
   "source": [
    "Q2. What is the difference between the mean, median, and mode? How are they used to measure the\n",
    "central tendency of a dataset?"
   ]
  },
  {
   "cell_type": "code",
   "execution_count": null,
   "id": "4ef3e463-da60-485d-8118-71860fc40e8c",
   "metadata": {},
   "outputs": [],
   "source": [
    "The average taken for a set of numbers is called a mean.\n",
    "The middle value in the data set is called the Median.\n",
    "The number that occurs the most in a given list of numbers is called a mode."
   ]
  },
  {
   "cell_type": "code",
   "execution_count": null,
   "id": "945d4dca-d83d-4f52-acc3-2deaf0bda51b",
   "metadata": {},
   "outputs": [],
   "source": [
    "Add all of the numbers together and divide the sum by the total number of values.\n",
    "Place all the given numbers in an ascending order.\n",
    "It shows the frequency of occurrence."
   ]
  },
  {
   "cell_type": "code",
   "execution_count": null,
   "id": "dfbe692e-263a-4390-af05-1567e5eb5800",
   "metadata": {},
   "outputs": [],
   "source": [
    "The result is the mean or average score.\n",
    "the next step is to find the middle number on the list. It is called the median.\n",
    "We can have more than one mode or no mode at all.\n"
   ]
  },
  {
   "cell_type": "code",
   "execution_count": null,
   "id": "4f9e93d7-a483-45b7-88fd-ab97b7b54b4d",
   "metadata": {},
   "outputs": [],
   "source": [
    "Measures of central tendency are summary statistics that represent the center point or typical value of a dataset. \n",
    "Examples of these measures include the mean, median, and mode. These statistics indicate where most values in a distribution\n",
    "fall and are also referred to as the central location of a distribution."
   ]
  },
  {
   "cell_type": "code",
   "execution_count": null,
   "id": "a138b98d-a142-45f1-875b-2e8eaaa64f92",
   "metadata": {},
   "outputs": [],
   "source": [
    "Q3. Measure the three measures of central tendency for the given height data:\n",
    "[178,177,176,177,178.2,178,175,179,180,175,178.9,176.2,177,172.5,178,176.5]"
   ]
  },
  {
   "cell_type": "code",
   "execution_count": 11,
   "id": "8ae61871-2f99-4344-ac59-7d261315cc73",
   "metadata": {},
   "outputs": [
    {
     "name": "stdout",
     "output_type": "stream",
     "text": [
      "mean of height:\n",
      " 177.01875\n",
      "mode of height:\n",
      " ModeResult(mode=array([177.]), count=array([3]))\n",
      "median of height:\n",
      " 177.0\n"
     ]
    },
    {
     "name": "stderr",
     "output_type": "stream",
     "text": [
      "/tmp/ipykernel_76/3448803861.py:5: FutureWarning: Unlike other reduction functions (e.g. `skew`, `kurtosis`), the default behavior of `mode` typically preserves the axis it acts along. In SciPy 1.11.0, this behavior will change: the default value of `keepdims` will become False, the `axis` over which the statistic is taken will be eliminated, and the value None will no longer be accepted. Set `keepdims` to True or False to avoid this warning.\n",
      "  mode=stats.mode(height)\n"
     ]
    }
   ],
   "source": [
    "height=[178,177,176,177,178.2,178,175,179,180,175,178.9,176.2,177,172.5,178,176.5]\n",
    "from scipy import stats\n",
    "mean=np.mean(height)\n",
    "print('mean of height:\\n',mean)\n",
    "mode=stats.mode(height)\n",
    "print('mode of height:\\n',mode)\n",
    "median=np.median(height)\n",
    "print('median of height:\\n',median)\n",
    "\n",
    "\n"
   ]
  },
  {
   "cell_type": "code",
   "execution_count": null,
   "id": "08b2889a-d438-41fa-a951-0cc979570c1d",
   "metadata": {},
   "outputs": [],
   "source": [
    "Q4. Find the standard deviation for the given data:\n",
    "[178,177,176,177,178.2,178,175,179,180,175,178.9,176.2,177,172.5,178,176.5]"
   ]
  },
  {
   "cell_type": "code",
   "execution_count": 14,
   "id": "f79b4561-18ad-4b62-a55e-f6f61d3ffc4f",
   "metadata": {},
   "outputs": [
    {
     "name": "stdout",
     "output_type": "stream",
     "text": [
      "standard devation of data is :\n",
      " 1.789\n"
     ]
    }
   ],
   "source": [
    "data=[178,177,176,177,178.2,178,175,179,180,175,178.9,176.2,177,172.5,178,176.5]\n",
    "std=np.std(data)\n",
    "print('standard devation of data is :\\n',round(std,3))"
   ]
  },
  {
   "cell_type": "code",
   "execution_count": null,
   "id": "bf2ddb8f-4f13-4783-bfc3-5b0fcd2c1aaa",
   "metadata": {},
   "outputs": [],
   "source": [
    "Q5. How are measures of dispersion such as range, variance, and standard deviation used to describe\n",
    "the spread of a dataset? Provide an example."
   ]
  },
  {
   "cell_type": "code",
   "execution_count": null,
   "id": "dc5ed684-9cc5-4f7d-a0c4-d1fdd3836926",
   "metadata": {},
   "outputs": [],
   "source": [
    "range:\n",
    "    range is diffrence between maximum and minimum value \n",
    "variance:\n",
    "    It simply describes how much a random variable defers from expected value and it is also computed as square of deviation.\n",
    "    \n",
    "standard deviation:\n",
    "    Standard deviation is the square root of the variance, calculated by determining the variation between the data points relative to their mean."
   ]
  },
  {
   "cell_type": "code",
   "execution_count": 10,
   "id": "eb5a099d-1ca8-4acb-9f99-b6a59ebba1a9",
   "metadata": {},
   "outputs": [
    {
     "name": "stdout",
     "output_type": "stream",
     "text": [
      "range of data is :\n",
      " 34\n",
      "variance of data is :\n",
      " 92.3\n",
      "standard deviation  of data is :\n",
      " 9.6\n"
     ]
    }
   ],
   "source": [
    "# example:---->\n",
    "data=[2,2,6,9,0,6,9,34,5]\n",
    "max=np.max(data)\n",
    "min=np.min(data)\n",
    "range=max-min\n",
    "print('range of data is :\\n',range)\n",
    "var=np.var(data)\n",
    "print('variance of data is :\\n',round(var,1))\n",
    "std=np.std(data)\n",
    "print('standard deviation  of data is :\\n',round(std,1))\n"
   ]
  },
  {
   "cell_type": "code",
   "execution_count": null,
   "id": "461a2535-b585-4060-8211-4cd76c391ed1",
   "metadata": {},
   "outputs": [],
   "source": [
    "Q6. What is a Venn diagram?\n",
    "t is a diagram that shows all possible logical relations between a finite collection of different sets. \n",
    "These diagrams depict elements as points in the plane, and sets as regions inside closed curves. A Venn diagram\n",
    "consists of multiple overlapping closed curves, usually circles, each representing a set."
   ]
  },
  {
   "cell_type": "code",
   "execution_count": null,
   "id": "93849c34-674d-4a2f-8b97-75fdf3c29dac",
   "metadata": {},
   "outputs": [],
   "source": [
    "Q7. For the two given sets A = (2,3,4,5,6,7) & B = (0,2,6,8,10). Find:\n",
    "(i) A inter B\n",
    "(ii) A ⋃ B"
   ]
  },
  {
   "cell_type": "code",
   "execution_count": 7,
   "id": "03293f7c-38e7-4801-81a4-67cb42c6edc6",
   "metadata": {},
   "outputs": [
    {
     "name": "stdout",
     "output_type": "stream",
     "text": [
      "intersection of A and B is : {2, 6}\n",
      "union of A and B is : {0, 2, 3, 4, 5, 6, 7, 8, 10}\n"
     ]
    }
   ],
   "source": [
    "A={2,3,4,5,6,7}\n",
    "B={0,2,6,8,10}\n",
    "intersection=print('intersection of A and B is :', A & B)\n",
    "union=print('union of A and B is :',A | B)"
   ]
  },
  {
   "cell_type": "code",
   "execution_count": 9,
   "id": "c7a37f85-8d57-4706-a226-6c6775f5fdfc",
   "metadata": {},
   "outputs": [],
   "source": [
    "Q8. What do you understand about skewness in data?"
   ]
  },
  {
   "cell_type": "code",
   "execution_count": null,
   "id": "5c1d110f-065a-48a9-bbce-8fd3c7c05205",
   "metadata": {},
   "outputs": [],
   "source": [
    "Skewness is a measure of the asymmetry of a distribution. A distribution is asymmetrical when its left and right side are not mirror images.\n",
    "\n",
    "A distribution can have right (or positive), left (or negative), or zero skewness. \n",
    "A right-skewed distribution is longer on the right side of its peak, and a left-skewed distribution is longer on the left side of its peak:\n",
    "\n"
   ]
  },
  {
   "cell_type": "code",
   "execution_count": null,
   "id": "f7d1053b-4f47-4a00-b2b9-027fa34f3113",
   "metadata": {},
   "outputs": [],
   "source": [
    "Q9. If a data is right skewed then what will be the position of median with respect to mean?\n"
   ]
  },
  {
   "cell_type": "code",
   "execution_count": null,
   "id": "5123ed0a-578e-436c-b296-8c007b3f99bc",
   "metadata": {},
   "outputs": [],
   "source": [
    "mean>median>mode"
   ]
  },
  {
   "cell_type": "code",
   "execution_count": null,
   "id": "cb157577-7be8-4f84-86de-9796db5233a5",
   "metadata": {},
   "outputs": [],
   "source": [
    "Q10. Explain the difference between covariance and correlation. How are these measures used in\n",
    "statistical analysis?"
   ]
  },
  {
   "cell_type": "code",
   "execution_count": null,
   "id": "e687bfce-0a97-4d1d-8309-965fbf410550",
   "metadata": {},
   "outputs": [],
   "source": [
    "Covariance indicates the extent of the variables being dependent on each other. A higher value denotes higher dependency.\n",
    "Correlation signifies the strength of association between the variables when the other things are constant."
   ]
  },
  {
   "cell_type": "code",
   "execution_count": null,
   "id": "23bec018-57cb-4d9e-99bf-1906cc6cff85",
   "metadata": {},
   "outputs": [],
   "source": [
    "Correlation can be gathered from covariance.\n",
    "Correlation gives the value of covariance on a standard scale.\n"
   ]
  },
  {
   "cell_type": "code",
   "execution_count": null,
   "id": "5419c4d5-7175-49b2-bae9-61e0ff445126",
   "metadata": {},
   "outputs": [],
   "source": [
    "Lie between -∞ and +∞\n",
    "Correlation has limited values in the range of -1 and +1."
   ]
  },
  {
   "cell_type": "code",
   "execution_count": null,
   "id": "58a43b57-b911-4459-a25b-d23a3e943359",
   "metadata": {},
   "outputs": [],
   "source": []
  }
 ],
 "metadata": {
  "kernelspec": {
   "display_name": "Python 3 (ipykernel)",
   "language": "python",
   "name": "python3"
  },
  "language_info": {
   "codemirror_mode": {
    "name": "ipython",
    "version": 3
   },
   "file_extension": ".py",
   "mimetype": "text/x-python",
   "name": "python",
   "nbconvert_exporter": "python",
   "pygments_lexer": "ipython3",
   "version": "3.10.8"
  }
 },
 "nbformat": 4,
 "nbformat_minor": 5
}
